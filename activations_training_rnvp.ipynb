{
 "cells": [
  {
   "cell_type": "markdown",
   "metadata": {},
   "source": [
    "# Example Training for Normalizing Flows"
   ]
  },
  {
   "cell_type": "code",
   "execution_count": 1,
   "metadata": {},
   "outputs": [
    {
     "name": "stdout",
     "output_type": "stream",
     "text": [
      "tensorflow:  2.8.0\n",
      "tensorflow-probability:  0.16.0\n"
     ]
    },
    {
     "name": "stderr",
     "output_type": "stream",
     "text": [
      "/home/marcel/Repos/normalizing-flows/.venv/lib/python3.9/site-packages/tqdm/auto.py:22: TqdmWarning: IProgress not found. Please update jupyter and ipywidgets. See https://ipywidgets.readthedocs.io/en/stable/user_install.html\n",
      "  from .autonotebook import tqdm as notebook_tqdm\n"
     ]
    }
   ],
   "source": [
    "import numpy as np\n",
    "import time\n",
    "import matplotlib.pyplot as plt\n",
    "import tensorflow as tf\n",
    "import tensorflow_probability as tfp\n",
    "import os\n",
    "import random\n",
    "\n",
    "from utils.train_utils import train_density_estimation, nll\n",
    "from normalizingflows.flow_catalog import RealNVP\n",
    "from data.data_manager import Dataset\n",
    "\n",
    "tfd = tfp.distributions\n",
    "tfb = tfp.bijectors\n",
    "\n",
    "tf.random.set_seed(1234)\n",
    "\n",
    "os.environ[\"TF_FORCE_GPU_ALLOW_GROWTH\"] = \"true\""
   ]
  },
  {
   "cell_type": "markdown",
   "metadata": {},
   "source": [
    "## 1. Load Data"
   ]
  },
  {
   "cell_type": "code",
   "execution_count": 2,
   "metadata": {},
   "outputs": [],
   "source": [
    "batch_size = 1000\n",
    "dataset_name = 'activations'"
   ]
  },
  {
   "cell_type": "code",
   "execution_count": 3,
   "metadata": {},
   "outputs": [
    {
     "name": "stderr",
     "output_type": "stream",
     "text": [
      "2022-03-27 18:41:57.086434: I tensorflow/stream_executor/cuda/cuda_gpu_executor.cc:936] successful NUMA node read from SysFS had negative value (-1), but there must be at least one NUMA node, so returning NUMA node zero\n",
      "2022-03-27 18:41:57.092840: I tensorflow/stream_executor/cuda/cuda_gpu_executor.cc:936] successful NUMA node read from SysFS had negative value (-1), but there must be at least one NUMA node, so returning NUMA node zero\n",
      "2022-03-27 18:41:57.107965: I tensorflow/stream_executor/cuda/cuda_gpu_executor.cc:936] successful NUMA node read from SysFS had negative value (-1), but there must be at least one NUMA node, so returning NUMA node zero\n",
      "2022-03-27 18:41:57.108661: I tensorflow/core/platform/cpu_feature_guard.cc:151] This TensorFlow binary is optimized with oneAPI Deep Neural Network Library (oneDNN) to use the following CPU instructions in performance-critical operations:  AVX2 FMA\n",
      "To enable them in other operations, rebuild TensorFlow with the appropriate compiler flags.\n",
      "2022-03-27 18:41:57.109209: I tensorflow/stream_executor/cuda/cuda_gpu_executor.cc:936] successful NUMA node read from SysFS had negative value (-1), but there must be at least one NUMA node, so returning NUMA node zero\n",
      "2022-03-27 18:41:57.109497: I tensorflow/stream_executor/cuda/cuda_gpu_executor.cc:936] successful NUMA node read from SysFS had negative value (-1), but there must be at least one NUMA node, so returning NUMA node zero\n",
      "2022-03-27 18:41:57.109736: I tensorflow/stream_executor/cuda/cuda_gpu_executor.cc:936] successful NUMA node read from SysFS had negative value (-1), but there must be at least one NUMA node, so returning NUMA node zero\n",
      "2022-03-27 18:41:57.626220: I tensorflow/stream_executor/cuda/cuda_gpu_executor.cc:936] successful NUMA node read from SysFS had negative value (-1), but there must be at least one NUMA node, so returning NUMA node zero\n",
      "2022-03-27 18:41:57.626552: I tensorflow/stream_executor/cuda/cuda_gpu_executor.cc:936] successful NUMA node read from SysFS had negative value (-1), but there must be at least one NUMA node, so returning NUMA node zero\n",
      "2022-03-27 18:41:57.626804: I tensorflow/stream_executor/cuda/cuda_gpu_executor.cc:936] successful NUMA node read from SysFS had negative value (-1), but there must be at least one NUMA node, so returning NUMA node zero\n",
      "2022-03-27 18:41:57.627004: W tensorflow/core/common_runtime/gpu/gpu_bfc_allocator.cc:39] Overriding allow_growth setting because the TF_FORCE_GPU_ALLOW_GROWTH environment variable is set. Original config value was 0.\n",
      "2022-03-27 18:41:57.627035: I tensorflow/core/common_runtime/gpu/gpu_device.cc:1525] Created device /job:localhost/replica:0/task:0/device:GPU:0 with 1660 MB memory:  -> device: 0, name: NVIDIA GeForce GTX 1650 Ti, pci bus id: 0000:01:00.0, compute capability: 7.5\n"
     ]
    }
   ],
   "source": [
    "dataset = Dataset(dataset_name, batch_size=batch_size)\n",
    "batched_train_data, val_data, test_data = dataset.get_data()"
   ]
  },
  {
   "cell_type": "markdown",
   "metadata": {},
   "source": [
    "## 2. Build the Normalizing Flow\n"
   ]
  },
  {
   "cell_type": "code",
   "execution_count": 4,
   "outputs": [],
   "source": [
    "layers = 5\n",
    "dimensions = 100\n",
    "hidden_units = [256, 256]"
   ],
   "metadata": {
    "collapsed": false,
    "pycharm": {
     "name": "#%%\n"
    }
   }
  },
  {
   "cell_type": "code",
   "execution_count": 5,
   "outputs": [],
   "source": [
    "def create_flow(training: bool):\n",
    "    bijectors = []\n",
    "    base_dist = tfd.Normal(loc=0.0, scale=1.0)\n",
    "    permutation = np.flip(np.arange(0, dimensions))\n",
    "    for i in range(layers):\n",
    "        bijectors.append(tfb.BatchNormalization(training=training))\n",
    "        bijectors.append(RealNVP(input_shape=dimensions, n_hidden=hidden_units))\n",
    "        bijectors.append(tfp.bijectors.Permute(permutation))\n",
    "\n",
    "    bijector = tfb.Chain(bijectors=list(reversed(bijectors)), name='chain_of_real_nvp')\n",
    "    return tfd.TransformedDistribution(\n",
    "        distribution=tfd.Sample(base_dist, sample_shape=[dimensions]),\n",
    "        bijector=bijector\n",
    "    )"
   ],
   "metadata": {
    "collapsed": false,
    "pycharm": {
     "name": "#%%\n"
    }
   }
  },
  {
   "cell_type": "code",
   "execution_count": 6,
   "outputs": [
    {
     "name": "stderr",
     "output_type": "stream",
     "text": [
      "2022-03-27 18:41:57.899149: W tensorflow/python/util/util.cc:368] Sets are not currently considered sequences, but this may change in the future, so consider avoiding using them.\n"
     ]
    }
   ],
   "source": [
    "flow = create_flow(training=True)\n",
    "n_trainable_variables = len(flow.trainable_variables)"
   ],
   "metadata": {
    "collapsed": false,
    "pycharm": {
     "name": "#%%\n"
    }
   }
  },
  {
   "cell_type": "markdown",
   "metadata": {},
   "source": [
    "## 3. Train the Normalizing Flow\n",
    "In this example we train the flow with a polynomial learning rate decay. Afer the training, the checkpoint with the best performance on the validation set is reloaded and tested on the test dataset. Early stopping is used, if the validation loss does not decrease for \"delta_stop\" epochs."
   ]
  },
  {
   "cell_type": "code",
   "execution_count": 7,
   "metadata": {},
   "outputs": [],
   "source": [
    "base_lr = 1e-3\n",
    "end_lr = 1e-4\n",
    "max_epochs = int(3e3)  # maximum number of epochs of the training\n",
    "learning_rate_fn = tf.keras.optimizers.schedules.PolynomialDecay(base_lr, max_epochs, end_lr, power=0.5)"
   ]
  },
  {
   "cell_type": "code",
   "execution_count": 8,
   "metadata": {},
   "outputs": [],
   "source": [
    "# initialize checkpoints\n",
    "checkpoint_directory = \"{}/tmp_{}\".format(dataset_name, str(hex(random.getrandbits(32))))\n",
    "checkpoint_prefix = os.path.join(checkpoint_directory, \"ckpt\")\n",
    "\n",
    "opt = tf.keras.optimizers.Adam(learning_rate=learning_rate_fn)  # optimizer\n",
    "checkpoint = tf.train.Checkpoint(model=flow)"
   ]
  },
  {
   "cell_type": "code",
   "execution_count": 9,
   "metadata": {},
   "outputs": [
    {
     "name": "stdout",
     "output_type": "stream",
     "text": [
      "0, train_loss: 3.833749771118164, val_loss: 3.7326924800872803, test_loss: 3.517606496810913\n",
      "100, train_loss: -165.1528778076172, val_loss: -156.9970703125, test_loss: -157.42343139648438\n",
      "200, train_loss: -176.4706268310547, val_loss: -167.56715393066406, test_loss: -167.72674560546875\n",
      "300, train_loss: -184.52816772460938, val_loss: -173.0288543701172, test_loss: -173.40411376953125\n",
      "400, train_loss: -188.89205932617188, val_loss: -178.91404724121094, test_loss: -179.41929626464844\n",
      "500, train_loss: -192.6404266357422, val_loss: -182.14955139160156, test_loss: -182.18736267089844\n",
      "600, train_loss: -198.74952697753906, val_loss: -185.98146057128906, test_loss: -186.5467071533203\n",
      "700, train_loss: -201.67327880859375, val_loss: -188.789306640625, test_loss: -188.9415740966797\n",
      "800, train_loss: -202.1710662841797, val_loss: -190.60118103027344, test_loss: -190.03823852539062\n",
      "900, train_loss: -206.49659729003906, val_loss: -191.9250946044922, test_loss: -191.50213623046875\n",
      "1000, train_loss: -210.572021484375, val_loss: -193.18235778808594, test_loss: -192.97787475585938\n",
      "1100, train_loss: -212.71400451660156, val_loss: -194.2353515625, test_loss: -193.4524688720703\n",
      "1200, train_loss: -213.99893188476562, val_loss: -195.4226531982422, test_loss: -192.700927734375\n",
      "1300, train_loss: -217.25360107421875, val_loss: -196.78868103027344, test_loss: -194.64541625976562\n",
      "1400, train_loss: -217.30648803710938, val_loss: -197.09774780273438, test_loss: -193.1479034423828\n",
      "1500, train_loss: -222.35205078125, val_loss: -199.98231506347656, test_loss: -194.12649536132812\n",
      "1600, train_loss: -221.0879364013672, val_loss: -198.5764617919922, test_loss: -194.3839569091797\n",
      "1700, train_loss: -225.31298828125, val_loss: -201.10830688476562, test_loss: -196.7433624267578\n",
      "1800, train_loss: -221.94569396972656, val_loss: -201.03733825683594, test_loss: -200.4332733154297\n",
      "1900, train_loss: -226.61557006835938, val_loss: -201.97952270507812, test_loss: -199.6184539794922\n",
      "2000, train_loss: -226.0969696044922, val_loss: -202.506103515625, test_loss: -199.90621948242188\n",
      "2100, train_loss: -228.73301696777344, val_loss: -202.7135772705078, test_loss: -199.5572509765625\n",
      "2200, train_loss: -230.6524658203125, val_loss: -203.4445037841797, test_loss: -201.23312377929688\n",
      "2300, train_loss: -232.1724395751953, val_loss: -204.6770477294922, test_loss: -200.3696746826172\n",
      "2400, train_loss: -229.53851318359375, val_loss: -204.00796508789062, test_loss: -199.72625732421875\n",
      "2500, train_loss: -233.07981872558594, val_loss: -206.0054931640625, test_loss: -201.11685180664062\n",
      "2600, train_loss: -228.66709899902344, val_loss: -203.2864227294922, test_loss: -199.816650390625\n",
      "2700, train_loss: -233.81797790527344, val_loss: -205.066162109375, test_loss: -201.85154724121094\n",
      "2800, train_loss: -236.5574493408203, val_loss: -207.22177124023438, test_loss: -203.81492614746094\n",
      "2900, train_loss: -238.3169403076172, val_loss: -205.39427185058594, test_loss: -202.54150390625\n"
     ]
    }
   ],
   "source": [
    "global_step = []\n",
    "train_losses = []\n",
    "val_losses = []\n",
    "min_val_loss = tf.convert_to_tensor(np.inf, dtype=tf.float32)  # high value to ensure that first loss < min_loss\n",
    "min_train_loss = tf.convert_to_tensor(np.inf, dtype=tf.float32)\n",
    "min_val_epoch = 0\n",
    "min_train_epoch = 0\n",
    "delta_stop = 1000  # threshold for early stopping\n",
    "\n",
    "t_start = time.time()  # start time\n",
    "\n",
    "# start training\n",
    "for i in range(max_epochs):\n",
    "    for batch in batched_train_data:\n",
    "        train_loss = train_density_estimation(flow, opt, batch)\n",
    "\n",
    "    if i % int(100) == 0:\n",
    "        val_loss = nll(flow, val_data)\n",
    "        global_step.append(i)\n",
    "        train_losses.append(train_loss)\n",
    "        val_losses.append(val_loss)\n",
    "        print(f\"{i}, train_loss: {train_loss}, val_loss: {val_loss}\")\n",
    "\n",
    "        if train_loss < min_train_loss:\n",
    "            min_train_loss = train_loss\n",
    "            min_train_epoch = i\n",
    "\n",
    "        if val_loss < min_val_loss:\n",
    "            min_val_loss = val_loss\n",
    "            min_val_epoch = i\n",
    "            checkpoint.write(file_prefix=checkpoint_prefix)  # overwrite best val model\n",
    "\n",
    "        elif i - min_val_epoch > delta_stop:  # no decrease in min_val_loss for \"delta_stop epochs\"\n",
    "            break\n",
    "\n",
    "train_time = time.time() - t_start"
   ]
  },
  {
   "cell_type": "code",
   "execution_count": 18,
   "metadata": {},
   "outputs": [
    {
     "name": "stdout",
     "output_type": "stream",
     "text": [
      "tf.Tensor(-55.72004, shape=(), dtype=float32)\n",
      "False\n",
      "False\n"
     ]
    }
   ],
   "source": [
    "# Reload best model\n",
    "flow = create_flow(training=False)\n",
    "checkpoint = tf.train.Checkpoint(model=flow)\n",
    "checkpoint.restore(checkpoint_prefix)\n",
    "\n",
    "# perform on test dataset\n",
    "t_start = time.time()\n",
    "test_loss = -tf.reduce_mean(flow.log_prob(test_data))\n",
    "test_time = time.time() - t_start\n",
    "print(test_loss)\n",
    "\n",
    "samples = flow.sample(1000)\n",
    "print(np.isnan(samples.numpy()).any())\n",
    "print(np.isinf(samples.numpy()).any())"
   ]
  },
  {
   "cell_type": "code",
   "execution_count": 11,
   "metadata": {},
   "outputs": [
    {
     "data": {
      "text/plain": "<matplotlib.legend.Legend at 0x7fc9fa880be0>"
     },
     "execution_count": 11,
     "metadata": {},
     "output_type": "execute_result"
    },
    {
     "data": {
      "text/plain": "<Figure size 432x288 with 1 Axes>",
      "image/png": "[encoded data removed]"
     },
     "metadata": {
      "needs_background": "light"
     },
     "output_type": "display_data"
    }
   ],
   "source": [
    "# plot train and validation loss curve\n",
    "plt.plot(global_step, train_losses, label=\"train loss\")\n",
    "plt.plot(global_step, val_losses, label=\"val loss\")\n",
    "plt.legend()"
   ]
  },
  {
   "cell_type": "markdown",
   "metadata": {},
   "source": [
    "## 5. Delete unnecessary checkpoints"
   ]
  },
  {
   "cell_type": "code",
   "execution_count": 14,
   "metadata": {
    "pycharm": {
     "name": "#%%\n"
    }
   },
   "outputs": [],
   "source": [
    "filelist = [f for f in os.listdir(checkpoint_directory)]\n",
    "for f in filelist:\n",
    "    os.remove(os.path.join(checkpoint_directory, f))\n",
    "os.removedirs(checkpoint_directory)"
   ]
  }
 ],
 "metadata": {
  "kernelspec": {
   "display_name": "Python 3 (ipykernel)",
   "language": "python",
   "name": "python3"
  },
  "language_info": {
   "codemirror_mode": {
    "name": "ipython",
    "version": 3
   },
   "file_extension": ".py",
   "mimetype": "text/x-python",
   "name": "python",
   "nbconvert_exporter": "python",
   "pygments_lexer": "ipython3",
   "version": "3.9.7"
  }
 },
 "nbformat": 4,
 "nbformat_minor": 4
}